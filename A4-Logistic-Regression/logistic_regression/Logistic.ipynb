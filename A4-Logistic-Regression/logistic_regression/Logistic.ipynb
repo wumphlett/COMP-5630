{
 "cells": [
  {
   "cell_type": "code",
   "execution_count": 1,
   "metadata": {
    "pycharm": {
     "name": "#%%\n"
    }
   },
   "outputs": [],
   "source": [
    "import random\n",
    "import numpy as np\n",
    "from data_process import get_CIFAR10_data, get_MUSHROOM_data\n",
    "from scipy.spatial import distance\n",
    "from models import Logistic\n",
    "from kaggle_submission import output_submission_csv\n",
    "%matplotlib inline\n",
    "\n",
    "# For auto-reloading external modules\n",
    "# See http://stackoverflow.com/questions/1907993/autoreload-of-modules-in-ipython\n",
    "%load_ext autoreload\n",
    "%autoreload 2"
   ]
  },
  {
   "cell_type": "markdown",
   "metadata": {
    "pycharm": {
     "name": "#%% md\n"
    }
   },
   "source": [
    "# Loading Mushroom"
   ]
  },
  {
   "cell_type": "markdown",
   "metadata": {
    "pycharm": {
     "name": "#%% md\n"
    }
   },
   "source": [
    "In the following cells we determine the splitting of the mushroom dataset.\n",
    "<br /> TRAINING + VALIDATION = 0.8, TESTING = 0.2"
   ]
  },
  {
   "cell_type": "code",
   "execution_count": 2,
   "metadata": {
    "pycharm": {
     "name": "#%%\n"
    }
   },
   "outputs": [],
   "source": [
    "# TRAINING = 0.6 indicates 60% of the data is used as the training dataset.\n",
    "VALIDATION = 0.2"
   ]
  },
  {
   "cell_type": "code",
   "execution_count": 3,
   "metadata": {
    "pycharm": {
     "name": "#%%\n"
    }
   },
   "outputs": [
    {
     "name": "stdout",
     "output_type": "stream",
     "text": [
      "Number of train samples:  4874\n",
      "Number of val samples:  1625\n",
      "Number of test samples:  1625\n"
     ]
    }
   ],
   "source": [
    "data = get_MUSHROOM_data(VALIDATION)\n",
    "X_train_MR, y_train_MR = data['X_train'], data['y_train']\n",
    "X_val_MR, y_val_MR = data['X_val'], data['y_val']\n",
    "X_test_MR, y_test_MR = data['X_test'], data['y_test']\n",
    "n_class_MR = len(np.unique(y_test_MR))\n",
    "\n",
    "print(\"Number of train samples: \", X_train_MR.shape[0])\n",
    "print(\"Number of val samples: \", X_val_MR.shape[0])\n",
    "print(\"Number of test samples: \", X_test_MR.shape[0])"
   ]
  },
  {
   "cell_type": "markdown",
   "metadata": {
    "pycharm": {
     "name": "#%% md\n"
    }
   },
   "source": [
    "### Get Accuracy"
   ]
  },
  {
   "cell_type": "markdown",
   "metadata": {
    "pycharm": {
     "name": "#%% md\n"
    }
   },
   "source": [
    "This function computes how well your model performs using accuracy as a metric."
   ]
  },
  {
   "cell_type": "code",
   "execution_count": 4,
   "metadata": {
    "pycharm": {
     "name": "#%%\n"
    }
   },
   "outputs": [],
   "source": [
    "def get_acc(pred, y_test):\n",
    "    return np.sum(y_test == pred) / len(y_test) * 100"
   ]
  },
  {
   "cell_type": "markdown",
   "metadata": {
    "pycharm": {
     "name": "#%% md\n"
    }
   },
   "source": [
    "# Logistic Classifier"
   ]
  },
  {
   "cell_type": "markdown",
   "metadata": {
    "pycharm": {
     "name": "#%% md\n"
    }
   },
   "source": [
    "The Logistic Classifier has 2 hyperparameters that you can experiment with:\n",
    "- **Learning rate** - controls how much we change the current weights of the classifier during each update. We set it at a default value of 0.5, but you should experiment with different values. We recommend changing the learning rate by factors of 10 and observing how the performance of the classifier changes. You should also try adding a **decay** which slowly reduces the learning rate over each epoch.\n",
    "- **Number of Epochs** - An epoch is a complete iterative pass over all of the data in the dataset. During an epoch we predict a label using the classifier and then update the weights of the classifier according to the logistic regression update rule for each sample in the training set. You should try different values for the number of training epochs and report your results."
   ]
  },
  {
   "cell_type": "markdown",
   "metadata": {
    "pycharm": {
     "name": "#%% md\n"
    }
   },
   "source": [
    "You will implement the Logistic Classifier in the **models/logistic.py**\n",
    "\n",
    "The following code: \n",
    "- Creates an instance of the Logistic classifier class \n",
    "- The train function of the Logistic class is trained on the training data\n",
    "- We use the predict function to find the training accuracy as well as the testing accuracy"
   ]
  },
  {
   "cell_type": "markdown",
   "metadata": {
    "pycharm": {
     "name": "#%% md\n"
    }
   },
   "source": [
    "### Training Logistic Classifer"
   ]
  },
  {
   "cell_type": "code",
   "execution_count": 6,
   "metadata": {
    "pycharm": {
     "name": "#%%\n"
    }
   },
   "outputs": [],
   "source": [
    "learning_rate = 0.05\n",
    "n_epochs = 1000\n",
    "\n",
    "lr = Logistic(learning_rate, n_epochs)\n",
    "lr.train(X_train_MR, y_train_MR)"
   ]
  },
  {
   "cell_type": "code",
   "execution_count": 7,
   "metadata": {
    "pycharm": {
     "name": "#%%\n"
    }
   },
   "outputs": [
    {
     "name": "stdout",
     "output_type": "stream",
     "text": [
      "The training accuracy is given by: 93.331966\n"
     ]
    }
   ],
   "source": [
    "pred_lr = lr.predict(X_train_MR)\n",
    "print('The training accuracy is given by: %f' % (get_acc(pred_lr, y_train_MR)))"
   ]
  },
  {
   "cell_type": "markdown",
   "metadata": {
    "pycharm": {
     "name": "#%% md\n"
    }
   },
   "source": [
    "### Validate Logistic Classifer"
   ]
  },
  {
   "cell_type": "code",
   "execution_count": 8,
   "metadata": {
    "pycharm": {
     "name": "#%%\n"
    }
   },
   "outputs": [
    {
     "name": "stdout",
     "output_type": "stream",
     "text": [
      "The validation accuracy is given by: 93.292308\n"
     ]
    }
   ],
   "source": [
    "pred_lr = lr.predict(X_val_MR)\n",
    "print('The validation accuracy is given by: %f' % (get_acc(pred_lr, y_val_MR)))"
   ]
  },
  {
   "cell_type": "markdown",
   "metadata": {
    "pycharm": {
     "name": "#%% md\n"
    }
   },
   "source": [
    "### Test Logistic Classifier"
   ]
  },
  {
   "cell_type": "code",
   "execution_count": 9,
   "metadata": {
    "pycharm": {
     "name": "#%%\n"
    }
   },
   "outputs": [
    {
     "name": "stdout",
     "output_type": "stream",
     "text": [
      "The testing accuracy is given by: 91.815385\n"
     ]
    }
   ],
   "source": [
    "pred_lr = lr.predict(X_test_MR)\n",
    "print('The testing accuracy is given by: %f' % (get_acc(pred_lr, y_test_MR)))"
   ]
  },
  {
   "cell_type": "code",
   "execution_count": 10,
   "metadata": {
    "pycharm": {
     "name": "#%%\n"
    }
   },
   "outputs": [
    {
     "name": "stdout",
     "output_type": "stream",
     "text": [
      "0 100\n",
      "1 115\n",
      "2 132\n",
      "3 152\n",
      "4 175\n",
      "5 202\n",
      "6 232\n",
      "7 268\n",
      "8 308\n",
      "9 355\n",
      "10 409\n",
      "11 471\n",
      "12 542\n",
      "13 625\n",
      "14 719\n",
      "15 828\n",
      "16 954\n",
      "17 1098\n",
      "18 1264\n",
      "19 1456\n",
      "20 1676\n",
      "21 1930\n",
      "22 2222\n",
      "23 2559\n",
      "24 2947\n",
      "25 3393\n",
      "26 3906\n",
      "27 4498\n",
      "28 5179\n",
      "29 5963\n",
      "30 6866\n",
      "31 7906\n",
      "32 9102\n",
      "33 10481\n",
      "34 12067\n",
      "35 13894\n",
      "36 15998\n",
      "37 18420\n",
      "38 21209\n",
      "39 24420\n",
      "40 28117\n",
      "41 32374\n",
      "42 37275\n",
      "43 42919\n",
      "44 49417\n",
      "45 56898\n",
      "46 65512\n",
      "47 75431\n",
      "48 86851\n",
      "49 100000\n"
     ]
    },
    {
     "data": {
      "text/plain": [
       "[<matplotlib.lines.Line2D at 0x7f2cde5c1640>]"
      ]
     },
     "execution_count": 10,
     "metadata": {},
     "output_type": "execute_result"
    },
    {
     "data": {
      "image/png": "[encoded data removed]",
      "text/plain": [
       "<Figure size 432x288 with 1 Axes>"
      ]
     },
     "metadata": {
      "needs_background": "light"
     },
     "output_type": "display_data"
    }
   ],
   "source": [
    "import matplotlib.pyplot as plt\n",
    "fig, ax = plt.subplots()\n",
    "ax.set_title(\"Accuracy v. Number of Epochs\")\n",
    "ax.set_xlabel(\"Epochs\")\n",
    "ax.set_ylabel(\"Accuracy\")\n",
    "\n",
    "epoch_steps = np.logspace(np.log10(100), np.log10(100000), num=50, dtype=\"int64\")\n",
    "accuracies = []\n",
    "for i, epoch_step in enumerate(epoch_steps):\n",
    "    lr = Logistic(learning_rate, epoch_step)\n",
    "    lr.train(X_train_MR, y_train_MR)\n",
    "    accuracies.append(\n",
    "        (\n",
    "            get_acc(lr.predict(X_train_MR), y_train_MR),\n",
    "            get_acc(lr.predict(X_val_MR), y_val_MR),\n",
    "            get_acc(lr.predict(X_test_MR), y_test_MR)\n",
    "        )\n",
    "    )\n",
    "    print(i, epoch_step)\n",
    "ax.set_xscale(\"log\")\n",
    "ax.plot(epoch_steps, [y[0] for y in accuracies], label = \"Training\")\n",
    "ax.plot(epoch_steps, [y[1] for y in accuracies], label = \"Validation\")\n",
    "ax.plot(epoch_steps, [y[2] for y in accuracies], label = \"Testing\")"
   ]
  },
  {
   "cell_type": "code",
   "execution_count": 16,
   "metadata": {
    "pycharm": {
     "name": "#%%\n"
    }
   },
   "outputs": [
    {
     "name": "stdout",
     "output_type": "stream",
     "text": [
      "0 1e-05\n",
      "1 1.2067926406393289e-05\n",
      "2 1.4563484775012445e-05\n",
      "3 1.757510624854793e-05\n",
      "4 2.1209508879201926e-05\n",
      "5 2.559547922699533e-05\n",
      "6 3.0888435964774785e-05\n",
      "7 3.727593720314938e-05\n",
      "8 4.498432668969444e-05\n",
      "9 5.4286754393238594e-05\n",
      "10 6.55128556859551e-05\n",
      "11 7.906043210907701e-05\n",
      "12 9.540954763499944e-05\n",
      "13 0.00011513953993264469\n",
      "14 0.00013894954943731373\n",
      "15 0.00016768329368110067\n",
      "16 0.00020235896477251554\n",
      "17 0.000244205309454865\n",
      "18 0.00029470517025518097\n",
      "19 0.00035564803062231287\n",
      "20 0.00042919342601287783\n",
      "21 0.0005179474679231213\n",
      "22 0.0006250551925273969\n",
      "23 0.0007543120063354615\n",
      "24 0.0009102981779915217\n",
      "25 0.0010985411419875584\n",
      "26 0.0013257113655901081\n",
      "27 0.0015998587196060573\n",
      "28 0.0019306977288832496\n",
      "29 0.002329951810515372\n",
      "30 0.002811768697974228\n",
      "31 0.0033932217718953264\n",
      "32 0.004094915062380423\n",
      "33 0.004941713361323833\n",
      "34 0.005963623316594642\n",
      "35 0.007196856730011514\n",
      "36 0.00868511373751352\n",
      "37 0.010481131341546853\n",
      "38 0.012648552168552958\n",
      "39 0.015264179671752318\n",
      "40 0.018420699693267144\n"
     ]
    },
    {
     "name": "stderr",
     "output_type": "stream",
     "text": [
      "/home/whumphlett/personal/COMP-5630/A4-Logistic-Regression/logistic_regression/models/logistic.py:28: RuntimeWarning: overflow encountered in exp\n",
      "  return 1. / (1 + np.exp(-z))\n"
     ]
    },
    {
     "name": "stdout",
     "output_type": "stream",
     "text": [
      "41 0.022229964825261933\n",
      "42 0.026826957952797246\n",
      "43 0.032374575428176434\n",
      "44 0.039069399370546126\n",
      "45 0.047148663634573894\n",
      "46 0.05689866029018293\n",
      "47 0.06866488450042998\n",
      "48 0.08286427728546843\n",
      "49 0.1\n"
     ]
    },
    {
     "data": {
      "text/plain": [
       "<matplotlib.legend.Legend at 0x7f2cde39a790>"
      ]
     },
     "execution_count": 16,
     "metadata": {},
     "output_type": "execute_result"
    },
    {
     "data": {
      "image/png": "[encoded data removed]",
      "text/plain": [
       "<Figure size 432x288 with 1 Axes>"
      ]
     },
     "metadata": {
      "needs_background": "light"
     },
     "output_type": "display_data"
    }
   ],
   "source": [
    "import matplotlib.pyplot as plt\n",
    "fig, ax = plt.subplots()\n",
    "ax.set_title(\"Accuracy v. Learning Rate\")\n",
    "ax.set_xlabel(\"Learning Rate\")\n",
    "ax.set_ylabel(\"Accuracy\")\n",
    "\n",
    "learning_steps = np.logspace(np.log10(.00001), np.log10(.1), num=50)\n",
    "accuracies = []\n",
    "for i, learning_step in enumerate(learning_steps):\n",
    "    lr = Logistic(learning_step, n_epochs)\n",
    "    lr.train(X_train_MR, y_train_MR)\n",
    "    accuracies.append(\n",
    "        (\n",
    "            get_acc(lr.predict(X_train_MR), y_train_MR),\n",
    "            get_acc(lr.predict(X_val_MR), y_val_MR),\n",
    "            get_acc(lr.predict(X_test_MR), y_test_MR)\n",
    "        )\n",
    "    )\n",
    "    print(i, learning_step)\n",
    "ax.set_xscale(\"log\")\n",
    "ax.plot(learning_steps, [y[0] for y in accuracies], label = \"Training\")\n",
    "ax.plot(learning_steps, [y[1] for y in accuracies], label = \"Validation\")\n",
    "ax.plot(learning_steps, [y[2] for y in accuracies], label = \"Testing\")\n",
    "ax.legend()"
   ]
  }
 ],
 "metadata": {
  "kernelspec": {
   "display_name": "Python 3 (ipykernel)",
   "language": "python",
   "name": "python3"
  },
  "language_info": {
   "codemirror_mode": {
    "name": "ipython",
    "version": 3
   },
   "file_extension": ".py",
   "mimetype": "text/x-python",
   "name": "python",
   "nbconvert_exporter": "python",
   "pygments_lexer": "ipython3",
   "version": "3.9.12"
  }
 },
 "nbformat": 4,
 "nbformat_minor": 1
}