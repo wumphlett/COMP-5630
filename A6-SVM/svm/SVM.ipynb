{
 "cells": [
  {
   "cell_type": "code",
   "execution_count": 2,
   "metadata": {
    "pycharm": {
     "name": "#%%\n"
    }
   },
   "outputs": [],
   "source": [
    "import random\n",
    "import numpy as np\n",
    "from data_process import get_CIFAR10_data, get_MUSHROOM_data\n",
    "from scipy.spatial import distance\n",
    "from svm import SVM\n",
    "%matplotlib inline\n",
    "\n",
    "# For auto-reloading external modules\n",
    "# See http://stackoverflow.com/questions/1907993/autoreload-of-modules-in-ipython\n",
    "%load_ext autoreload\n",
    "%autoreload 2"
   ]
  },
  {
   "cell_type": "markdown",
   "metadata": {
    "pycharm": {
     "name": "#%% md\n"
    }
   },
   "source": [
    "# Loading Mushroom"
   ]
  },
  {
   "cell_type": "markdown",
   "metadata": {
    "pycharm": {
     "name": "#%% md\n"
    }
   },
   "source": [
    "In the following cells we determine the splitting of the mushroom dataset.\n",
    "<br /> TRAINING + VALIDATION = 0.8, TESTING = 0.2"
   ]
  },
  {
   "cell_type": "code",
   "execution_count": 3,
   "metadata": {
    "pycharm": {
     "name": "#%%\n"
    }
   },
   "outputs": [],
   "source": [
    "# TRAINING = 0.6 indicates 60% of the data is used as the training dataset.\n",
    "VALIDATION = 0.2"
   ]
  },
  {
   "cell_type": "code",
   "execution_count": 4,
   "metadata": {
    "pycharm": {
     "name": "#%%\n"
    }
   },
   "outputs": [
    {
     "name": "stdout",
     "output_type": "stream",
     "text": [
      "Number of train samples:  4874\n",
      "Number of val samples:  1625\n",
      "Number of test samples:  1625\n"
     ]
    }
   ],
   "source": [
    "data = get_MUSHROOM_data(VALIDATION)\n",
    "X_train_MR, y_train_MR = data['X_train'], data['y_train']\n",
    "X_val_MR, y_val_MR = data['X_val'], data['y_val']\n",
    "X_test_MR, y_test_MR = data['X_test'], data['y_test']\n",
    "n_class_MR = len(np.unique(y_test_MR))\n",
    "\n",
    "print(\"Number of train samples: \", X_train_MR.shape[0])\n",
    "print(\"Number of val samples: \", X_val_MR.shape[0])\n",
    "print(\"Number of test samples: \", X_test_MR.shape[0])"
   ]
  },
  {
   "cell_type": "markdown",
   "metadata": {
    "pycharm": {
     "name": "#%% md\n"
    }
   },
   "source": [
    "### Get Accuracy"
   ]
  },
  {
   "cell_type": "markdown",
   "metadata": {
    "pycharm": {
     "name": "#%% md\n"
    }
   },
   "source": [
    "This function computes how well your model performs using accuracy as a metric."
   ]
  },
  {
   "cell_type": "code",
   "execution_count": 5,
   "metadata": {
    "pycharm": {
     "name": "#%%\n"
    }
   },
   "outputs": [],
   "source": [
    "def get_acc(pred, y_test):\n",
    "    return np.sum(y_test == pred) / len(y_test) * 100"
   ]
  },
  {
   "cell_type": "markdown",
   "metadata": {
    "pycharm": {
     "name": "#%% md\n"
    }
   },
   "source": [
    "# Support Vector Machines (with SGD)"
   ]
  },
  {
   "cell_type": "markdown",
   "metadata": {
    "pycharm": {
     "name": "#%% md\n"
    }
   },
   "source": [
    "Next, you will implement a \"soft margin\" SVM. In this formulation you will maximize the margin between positive and negative training examples and penalize margin violations using a hinge loss.\n",
    "\n",
    "We will optimize the SVM loss using SGD. This means you must compute the loss function with respect to model weights. You will use this gradient to update the model weights.\n",
    "\n",
    "SVM optimized with SGD has 3 hyperparameters that you can experiment with:\n",
    "- **Learning rate** - similar to as defined above in Perceptron, this parameter scales by how much the weights are changed according to the calculated gradient update. \n",
    "- **Epochs** - similar to as defined above in Perceptron.\n",
    "- **Regularization constant** - Hyperparameter to determine the strength of regularization. In this case it is a coefficient on the term which maximizes the margin. You could try different values. The default value is set to 0.05."
   ]
  },
  {
   "cell_type": "markdown",
   "metadata": {
    "pycharm": {
     "name": "#%% md\n"
    }
   },
   "source": [
    "You will implement the SVM using SGD in the **models/svm.py**\n",
    "\n",
    "The following code: \n",
    "- Creates an instance of the SVM classifier class \n",
    "- The train function of the SVM class is trained on the training data\n",
    "- We use the predict function to find the training accuracy as well as the testing accuracy"
   ]
  },
  {
   "cell_type": "markdown",
   "metadata": {
    "pycharm": {
     "name": "#%% md\n"
    }
   },
   "source": [
    "## Train SVM on Mushroom"
   ]
  },
  {
   "cell_type": "code",
   "execution_count": 34,
   "metadata": {
    "pycharm": {
     "name": "#%%\n"
    }
   },
   "outputs": [],
   "source": [
    "lr = 0.00015\n",
    "n_epochs = 10000\n",
    "reg_const = 100\n",
    "\n",
    "svm_MR = SVM(n_class_MR, lr, n_epochs, reg_const)\n",
    "svm_MR.train(X_train_MR, y_train_MR)"
   ]
  },
  {
   "cell_type": "code",
   "execution_count": 35,
   "metadata": {
    "pycharm": {
     "name": "#%%\n"
    }
   },
   "outputs": [
    {
     "name": "stdout",
     "output_type": "stream",
     "text": [
      "The training accuracy is given by: 94.583504\n"
     ]
    }
   ],
   "source": [
    "pred_svm = svm_MR.predict(X_train_MR)\n",
    "print('The training accuracy is given by: %f' % (get_acc(pred_svm, y_train_MR)))"
   ]
  },
  {
   "cell_type": "markdown",
   "metadata": {
    "pycharm": {
     "name": "#%% md\n"
    }
   },
   "source": [
    "### Validate SVM on Mushroom"
   ]
  },
  {
   "cell_type": "code",
   "execution_count": 36,
   "metadata": {
    "pycharm": {
     "name": "#%%\n"
    }
   },
   "outputs": [
    {
     "name": "stdout",
     "output_type": "stream",
     "text": [
      "The validation accuracy is given by: 93.969231\n"
     ]
    }
   ],
   "source": [
    "pred_svm = svm_MR.predict(X_val_MR)\n",
    "print('The validation accuracy is given by: %f' % (get_acc(pred_svm, y_val_MR)))"
   ]
  },
  {
   "cell_type": "markdown",
   "metadata": {
    "pycharm": {
     "name": "#%% md\n"
    }
   },
   "source": [
    "## Test SVM on Mushroom"
   ]
  },
  {
   "cell_type": "code",
   "execution_count": 37,
   "metadata": {
    "pycharm": {
     "name": "#%%\n"
    }
   },
   "outputs": [
    {
     "name": "stdout",
     "output_type": "stream",
     "text": [
      "The testing accuracy is given by: 94.215385\n"
     ]
    }
   ],
   "source": [
    "pred_svm = svm_MR.predict(X_test_MR)\n",
    "print('The testing accuracy is given by: %f' % (get_acc(pred_svm, y_test_MR)))"
   ]
  },
  {
   "cell_type": "code",
   "execution_count": 16,
   "metadata": {
    "pycharm": {
     "name": "#%%\n"
    }
   },
   "outputs": [
    {
     "name": "stdout",
     "output_type": "stream",
     "text": [
      "0 1e-05\n",
      "1 1.2067926406393289e-05\n",
      "2 1.4563484775012445e-05\n",
      "3 1.757510624854793e-05\n",
      "4 2.1209508879201926e-05\n",
      "5 2.559547922699533e-05\n",
      "6 3.0888435964774785e-05\n",
      "7 3.727593720314938e-05\n",
      "8 4.498432668969444e-05\n",
      "9 5.4286754393238594e-05\n",
      "10 6.55128556859551e-05\n",
      "11 7.906043210907701e-05\n",
      "12 9.540954763499944e-05\n",
      "13 0.00011513953993264469\n",
      "14 0.00013894954943731373\n",
      "15 0.00016768329368110067\n",
      "16 0.00020235896477251554\n",
      "17 0.000244205309454865\n",
      "18 0.00029470517025518097\n",
      "19 0.00035564803062231287\n",
      "20 0.00042919342601287783\n",
      "21 0.0005179474679231213\n",
      "22 0.0006250551925273969\n",
      "23 0.0007543120063354615\n",
      "24 0.0009102981779915217\n",
      "25 0.0010985411419875584\n",
      "26 0.0013257113655901081\n",
      "27 0.0015998587196060573\n",
      "28 0.0019306977288832496\n",
      "29 0.002329951810515372\n",
      "30 0.002811768697974228\n",
      "31 0.0033932217718953264\n",
      "32 0.004094915062380423\n",
      "33 0.004941713361323833\n",
      "34 0.005963623316594642\n",
      "35 0.007196856730011514\n",
      "36 0.00868511373751352\n",
      "37 0.010481131341546853\n",
      "38 0.012648552168552958\n",
      "39 0.015264179671752318\n",
      "40 0.018420699693267144\n",
      "41 0.022229964825261933\n",
      "42 0.026826957952797246\n",
      "43 0.032374575428176434\n",
      "44 0.039069399370546126\n",
      "45 0.047148663634573894\n",
      "46 0.05689866029018293\n",
      "47 0.06866488450042998\n",
      "48 0.08286427728546843\n",
      "49 0.1\n"
     ]
    },
    {
     "data": {
      "text/plain": [
       "[<matplotlib.lines.Line2D at 0x7fb0f15ec5b0>]"
      ]
     },
     "execution_count": 16,
     "metadata": {},
     "output_type": "execute_result"
    },
    {
     "data": {
      "image/png": "[encoded data removed]",
      "text/plain": [
       "<Figure size 432x288 with 1 Axes>"
      ]
     },
     "metadata": {
      "needs_background": "light"
     },
     "output_type": "display_data"
    }
   ],
   "source": [
    "import matplotlib.pyplot as plt\n",
    "fig, ax = plt.subplots()\n",
    "ax.set_title(\"Accuracy v. Learning Rate\")\n",
    "ax.set_xlabel(\"Learning Rate\")\n",
    "ax.set_ylabel(\"Accuracy\")\n",
    "\n",
    "learning_steps = np.logspace(np.log10(.00001), np.log10(.1), num=50)\n",
    "accuracies = []\n",
    "for i, learning_step in enumerate(learning_steps):\n",
    "    svm = SVM(n_class_MR, learning_step, n_epochs, reg_const)\n",
    "    svm.train(X_train_MR, y_train_MR)\n",
    "    accuracies.append(\n",
    "        (\n",
    "            get_acc(svm.predict(X_train_MR), y_train_MR),\n",
    "            get_acc(svm.predict(X_test_MR), y_test_MR),\n",
    "            get_acc(svm.predict(X_val_MR), y_val_MR),\n",
    "        )\n",
    "    )\n",
    "    print(i, learning_step)\n",
    "ax.set_xscale(\"log\")\n",
    "ax.plot(learning_steps, [y[0] for y in accuracies], label = \"Training\")\n",
    "ax.plot(learning_steps, [y[1] for y in accuracies], label = \"Testing\")\n",
    "ax.plot(learning_steps, [y[2] for y in accuracies], label = \"Validation\")"
   ]
  },
  {
   "cell_type": "code",
   "execution_count": 21,
   "metadata": {
    "pycharm": {
     "name": "#%%\n"
    }
   },
   "outputs": [
    {
     "name": "stdout",
     "output_type": "stream",
     "text": [
      "0 0.01\n",
      "1 0.013257113655901088\n",
      "2 0.017575106248547922\n",
      "3 0.023299518105153717\n",
      "4 0.030888435964774818\n",
      "5 0.040949150623804255\n",
      "6 0.054286754393238594\n",
      "7 0.07196856730011521\n",
      "8 0.09540954763499938\n",
      "9 0.12648552168552957\n",
      "10 0.16768329368110083\n",
      "11 0.22229964825261944\n",
      "12 0.29470517025518095\n",
      "13 0.3906939937054617\n",
      "14 0.517947467923121\n",
      "15 0.6866488450043002\n",
      "16 0.9102981779915218\n",
      "17 1.2067926406393288\n",
      "18 1.5998587196060574\n",
      "19 2.1209508879201904\n",
      "20 2.8117686979742307\n",
      "21 3.727593720314938\n",
      "22 4.941713361323833\n",
      "23 6.551285568595509\n",
      "24 8.68511373751352\n",
      "25 11.513953993264469\n",
      "26 15.264179671752334\n",
      "27 20.235896477251575\n",
      "28 26.826957952797247\n",
      "29 35.564803062231285\n",
      "30 47.14866363457394\n",
      "31 62.505519252739695\n",
      "32 82.86427728546842\n",
      "33 109.85411419875572\n",
      "34 145.63484775012444\n",
      "35 193.06977288832496\n",
      "36 255.95479226995332\n",
      "37 339.32217718953297\n",
      "38 449.8432668969444\n",
      "39 596.3623316594636\n",
      "40 790.6043210907702\n",
      "41 1048.1131341546852\n",
      "42 1389.4954943731361\n",
      "43 1842.0699693267163\n",
      "44 2442.05309454865\n",
      "45 3237.45754281764\n",
      "46 4291.934260128778\n",
      "47 5689.866029018293\n",
      "48 7543.120063354608\n",
      "49 10000.0\n"
     ]
    },
    {
     "data": {
      "text/plain": [
       "[<matplotlib.lines.Line2D at 0x7fb0f81783a0>]"
      ]
     },
     "execution_count": 21,
     "metadata": {},
     "output_type": "execute_result"
    },
    {
     "data": {
      "image/png": "[encoded data removed]",
      "text/plain": [
       "<Figure size 432x288 with 1 Axes>"
      ]
     },
     "metadata": {
      "needs_background": "light"
     },
     "output_type": "display_data"
    }
   ],
   "source": [
    "import matplotlib.pyplot as plt\n",
    "fig, ax = plt.subplots()\n",
    "ax.set_title(\"Accuracy v. Regularization Constant\")\n",
    "ax.set_xlabel(\"Reg Const\")\n",
    "ax.set_ylabel(\"Accuracy\")\n",
    "\n",
    "reg_steps = np.logspace(np.log10(.01), np.log10(10000), num=50)\n",
    "accuracies = []\n",
    "for i, reg_step in enumerate(reg_steps):\n",
    "    svm = SVM(n_class_MR, lr, n_epochs, reg_step)\n",
    "    svm.train(X_train_MR, y_train_MR)\n",
    "    accuracies.append(\n",
    "        (\n",
    "            get_acc(svm.predict(X_train_MR), y_train_MR),\n",
    "            get_acc(svm.predict(X_test_MR), y_test_MR),\n",
    "            get_acc(svm.predict(X_val_MR), y_val_MR),\n",
    "        )\n",
    "    )\n",
    "    print(i, reg_step)\n",
    "ax.set_xscale(\"log\")\n",
    "ax.plot(reg_steps, [y[0] for y in accuracies], label = \"Training\")\n",
    "ax.plot(reg_steps, [y[1] for y in accuracies], label = \"Testing\")\n",
    "ax.plot(reg_steps, [y[2] for y in accuracies], label = \"Validation\")"
   ]
  },
  {
   "cell_type": "code",
   "execution_count": null,
   "metadata": {
    "pycharm": {
     "name": "#%%\n"
    }
   },
   "outputs": [],
   "source": []
  }
 ],
 "metadata": {
  "kernelspec": {
   "display_name": "Python 3 (ipykernel)",
   "language": "python",
   "name": "python3"
  },
  "language_info": {
   "codemirror_mode": {
    "name": "ipython",
    "version": 3
   },
   "file_extension": ".py",
   "mimetype": "text/x-python",
   "name": "python",
   "nbconvert_exporter": "python",
   "pygments_lexer": "ipython3",
   "version": "3.9.12"
  }
 },
 "nbformat": 4,
 "nbformat_minor": 1
}